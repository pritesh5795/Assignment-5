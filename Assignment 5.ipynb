{
 "cells": [
  {
   "cell_type": "code",
   "execution_count": 1,
   "id": "e22d1a76",
   "metadata": {},
   "outputs": [],
   "source": [
    "#Q.1 What does an empty dictionary's code look like?\n",
    "#Ans. {}"
   ]
  },
  {
   "cell_type": "code",
   "execution_count": 4,
   "id": "680c3d7a",
   "metadata": {},
   "outputs": [],
   "source": [
    "#Q.2 What is the value of a dictionary value with the key 'foo' and the value 42?\n",
    "#Ans. d = {'foo':42}"
   ]
  },
  {
   "cell_type": "code",
   "execution_count": 5,
   "id": "4f01f72c",
   "metadata": {},
   "outputs": [],
   "source": [
    "#Q.3 What is the most significant distinction between a dictionary and a list?\n",
    "#Ans. list is collection of index values, while dictionary is structure of key and value pair. both are mutable."
   ]
  },
  {
   "cell_type": "code",
   "execution_count": 7,
   "id": "3b8e22cb",
   "metadata": {},
   "outputs": [],
   "source": [
    "#Q.4 What happens if you try to access spam['foo'] if spam is {'bar': 100}?\n",
    "#Ans. may be think there is no difference. "
   ]
  },
  {
   "cell_type": "code",
   "execution_count": 9,
   "id": "8974a6ad",
   "metadata": {},
   "outputs": [],
   "source": [
    "#Q.5 If a dictionary is stored in spam, what is the difference between the expressions 'cat' in spam and 'cat' in spam.keys()?\n",
    "#Ans. 'cat' in spam checks whether there is a 'cat' key in the dictionary"
   ]
  },
  {
   "cell_type": "code",
   "execution_count": 10,
   "id": "639ba06e",
   "metadata": {},
   "outputs": [],
   "source": [
    "#Q.6 . If a dictionary is stored in spam, what is the difference between the expressions 'cat' in spam and 'cat' in spam.values()?\n",
    "#Ans. 'cat' in spam.values() checks whether there is a value 'cat' for one of the keys in spam ."
   ]
  },
  {
   "cell_type": "code",
   "execution_count": 14,
   "id": "bdf1028e",
   "metadata": {},
   "outputs": [
    {
     "data": {
      "text/plain": [
       "{'color': 'black'}"
      ]
     },
     "execution_count": 14,
     "metadata": {},
     "output_type": "execute_result"
    }
   ],
   "source": [
    "#Q.7 What is a shortcut for the following code?\n",
    "#    if 'color' not in spam:\n",
    "#    spam['color'] = 'black'\n",
    "#Ans. \n",
    "d = {'color':\"black\"}\n",
    "d"
   ]
  },
  {
   "cell_type": "code",
   "execution_count": 17,
   "id": "30e20265",
   "metadata": {},
   "outputs": [],
   "source": [
    "#Q.8 How do you \"pretty print\" dictionary values using which module and function?\n",
    "#Ans. pprint()"
   ]
  }
 ],
 "metadata": {
  "kernelspec": {
   "display_name": "Python 3 (ipykernel)",
   "language": "python",
   "name": "python3"
  },
  "language_info": {
   "codemirror_mode": {
    "name": "ipython",
    "version": 3
   },
   "file_extension": ".py",
   "mimetype": "text/x-python",
   "name": "python",
   "nbconvert_exporter": "python",
   "pygments_lexer": "ipython3",
   "version": "3.9.7"
  }
 },
 "nbformat": 4,
 "nbformat_minor": 5
}
